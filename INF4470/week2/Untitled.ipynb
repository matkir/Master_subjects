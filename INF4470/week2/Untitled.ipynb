{
 "cells": [
  {
   "cell_type": "markdown",
   "metadata": {},
   "source": [
    "### Oppgave 2 "
   ]
  },
  {
   "cell_type": "code",
   "execution_count": 2,
   "metadata": {},
   "outputs": [
    {
     "data": {
      "image/png": "[encoded data removed]",
      "text/plain": [
       "<matplotlib.figure.Figure at 0x7f5367529b70>"
      ]
     },
     "metadata": {},
     "output_type": "display_data"
    },
    {
     "data": {
      "image/png": "[encoded data removed]",
      "text/plain": [
       "<matplotlib.figure.Figure at 0x7f5367529c18>"
      ]
     },
     "metadata": {},
     "output_type": "display_data"
    }
   ],
   "source": [
    "from numpy import *\n",
    "import matplotlib.pyplot as plt\n",
    "\n",
    "n=linspace(-20,20,41)\n",
    "func=cos(0.1*n-pi/5)\n",
    "\n",
    "n2=linspace(-10,20,31)\n",
    "func2=cos(0.1*n2*pi-(pi/5))\n",
    "\n",
    "\n",
    "\n",
    "\n",
    "\n",
    "plt.stem(n,func)\n",
    "plt.show()\n",
    "plt.stem(n2,func2)\n",
    "plt.show()"
   ]
  },
  {
   "cell_type": "markdown",
   "metadata": {},
   "source": [
    "\n",
    "\n",
    "### Oppgave 3"
   ]
  },
  {
   "cell_type": "code",
   "execution_count": 4,
   "metadata": {},
   "outputs": [
    {
     "data": {
      "image/png": "[encoded data removed]",
      "text/plain": [
       "<matplotlib.figure.Figure at 0x7f5362b01860>"
      ]
     },
     "metadata": {},
     "output_type": "display_data"
    },
    {
     "data": {
      "image/png": "[encoded data removed]",
      "text/plain": [
       "<matplotlib.figure.Figure at 0x7f53678a6e80>"
      ]
     },
     "metadata": {},
     "output_type": "display_data"
    }
   ],
   "source": [
    "from scipy.signal import *\n",
    "from numpy import *\n",
    "import matplotlib.pyplot as plt\n",
    "\n",
    "n=linspace(0,20,21)\n",
    "\n",
    "#setting u[n]\n",
    "xn1=zeros(len(n))\n",
    "xn1[0]=1\n",
    "xn2=zeros(len(n))\n",
    "xn2[5:]=1\n",
    "\n",
    "\n",
    "\"\"\"dirac\"\"\"\n",
    "yn2 = zeros(len(n))\n",
    "yn2[0] = xn1[0]\n",
    "for i in range(len(yn2)):\n",
    "    yn2[i] = (0.9 * yn2[i-1]) + xn1[i]\n",
    "yn2=lfilter([1],[1,-0.9],xn1) #alternative way\n",
    "\n",
    "\n",
    "\n",
    "yn = zeros(len(n))\n",
    "yn[0] = xn1[0]\n",
    "for i in range(len(yn2)):\n",
    "    yn[i] = (i/(i+1)) * yn[i-1] + xn1[i]\n",
    "\n",
    "   \n",
    "plt.stem(n,yn,'g')\n",
    "plt.stem(n,yn2,'r')\n",
    "plt.show()\n",
    "\n",
    "\n",
    "\"\"\"square\"\"\"\n",
    "yn2 = zeros(len(n))\n",
    "yn2[0] = xn2[0]\n",
    "for i in range(len(yn2)):\n",
    "    yn2[i] = (0.9 * yn2[i-1]) + xn2[i]\n",
    "yn2=lfilter([1],[1,-0.9],xn2) #alternative way\n",
    "\n",
    "\n",
    "\n",
    "yn = zeros(len(n))\n",
    "yn[0] = xn2[0]\n",
    "for i in range(len(yn2)):\n",
    "    yn[i] = (i/(i+1)) * yn[i-1] + xn2[i]\n",
    "\n",
    "   \n",
    "plt.stem(n,yn,'g')\n",
    "plt.stem(n,yn2,'r')\n",
    "plt.show()"
   ]
  },
  {
   "cell_type": "markdown",
   "metadata": {},
   "source": [
    "### Oppgave 4\n",
    "\n",
    "#### a)\n",
    "\n",
    "5 point moving average filter:\n",
    "\n",
    "$\\frac{1}{5}(x[n]+x[n-1]+x[n-2]+x[n-3]+x[n-4])$\n"
   ]
  },
  {
   "cell_type": "code",
   "execution_count": 5,
   "metadata": {},
   "outputs": [
    {
     "name": "stdout",
     "output_type": "stream",
     "text": [
      "[ 0.   0.   0.   0.   0.   0.   0.   0.2  0.2  0.2  0.2  0.2  0.   0. ]\n"
     ]
    }
   ],
   "source": [
    "h=zeros(14)\n",
    "h[7]=1\n",
    "#h[8]=1\n",
    "x=h\n",
    "\n",
    "ret=zeros(14)\n",
    "for n in range(len(h)):\n",
    "    if n<4:\n",
    "        continue\n",
    "    ret[n]=1/5*(x[n]+x[n-1]+x[n-2]+x[n-3]+x[n-4])\n",
    "    \n",
    "print(ret)"
   ]
  }
 ],
 "metadata": {
  "kernelspec": {
   "display_name": "Python 3",
   "language": "python",
   "name": "python3"
  },
  "language_info": {
   "codemirror_mode": {
    "name": "ipython",
    "version": 3
   },
   "file_extension": ".py",
   "mimetype": "text/x-python",
   "name": "python",
   "nbconvert_exporter": "python",
   "pygments_lexer": "ipython3",
   "version": "3.6.1"
  }
 },
 "nbformat": 4,
 "nbformat_minor": 2
}
