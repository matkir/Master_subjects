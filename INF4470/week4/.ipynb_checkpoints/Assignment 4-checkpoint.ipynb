{
 "cells": [
  {
   "cell_type": "code",
   "execution_count": 30,
   "metadata": {},
   "outputs": [],
   "source": [
    "from numpy import *\n",
    "import matplotlib.pyplot as plt\n",
    "\n",
    "j=complex(0,1)\n",
    "def f(w):\n",
    "    return (0.5*exp(-1j*pi/8)*(3/4)/(5/4-cos(w-pi/8))\\\n",
    "            +0.5*exp(1j*pi/8)*(3/4)/(5/4-cos(w+pi/8)))\n",
    "\n",
    "def g(w):\n",
    "    return (-2*1j*sin(w)-4j*sin(2*w)-6j*sin(3*w))\n",
    "\n",
    "def h(w):\n",
    "    return (4*exp(4j*w)+7/2*exp(3j*w)+3*exp(2j*w)\\\n",
    "            +5/2*exp(j*w)+2+3/2*exp(-1j*w)+exp(-2j*w)+1/2*exp(-3j*w))\n",
    "\n",
    "def f_f(w):\n",
    "    return angle(f(w))\n",
    "\n",
    "def g_f(w):\n",
    "    return angle(g(w))\n",
    "\n",
    "def h_f(w):\n",
    "    return angle(h(w))\n",
    "\n",
    "\n",
    "rng=linspace(- pi,pi,200)\n",
    "\n",
    "plt.clf()\n",
    "plt.subplot(211)\n",
    "plt.plot(rng,absolute(f(rng)))\n",
    "plt.subplot(212)\n",
    "plt.plot(rng,f_f(rng))\n",
    "plt.savefig('f.png')\n",
    "plt.clf()\n",
    "\n",
    "plt.subplot(211)\n",
    "plt.plot(rng,absolute(g(rng)))\n",
    "plt.subplot(212)\n",
    "plt.plot(rng,g_f(rng))\n",
    "plt.savefig('g2.png')\n",
    "plt.clf()\n",
    "\n",
    "\n",
    "plt.subplot(211)\n",
    "plt.plot(rng,absolute(h(rng)))\n",
    "plt.subplot(212)\n",
    "plt.plot(rng,h_f(rng))\n",
    "plt.savefig('h3.png')\n",
    "plt.clf()\n"
   ]
  },
  {
   "cell_type": "markdown",
   "metadata": {},
   "source": [
    "![a](f.png)\n",
    "\n",
    "\n"
   ]
  },
  {
   "cell_type": "markdown",
   "metadata": {},
   "source": [
    "![b](g2.png)\n"
   ]
  },
  {
   "cell_type": "markdown",
   "metadata": {},
   "source": [
    "\n",
    "![c](h3.png)"
   ]
  }
 ],
 "metadata": {
  "kernelspec": {
   "display_name": "Python 3",
   "language": "python",
   "name": "python3"
  },
  "language_info": {
   "codemirror_mode": {
    "name": "ipython",
    "version": 3
   },
   "file_extension": ".py",
   "mimetype": "text/x-python",
   "name": "python",
   "nbconvert_exporter": "python",
   "pygments_lexer": "ipython3",
   "version": "3.6.1"
  }
 },
 "nbformat": 4,
 "nbformat_minor": 2
}
